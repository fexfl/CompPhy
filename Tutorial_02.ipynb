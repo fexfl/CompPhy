{
 "cells": [
  {
   "cell_type": "code",
   "execution_count": 1,
   "id": "3bf776f4",
   "metadata": {},
   "outputs": [],
   "source": [
    "import numpy as np\n",
    "import matplotlib.pyplot as plt"
   ]
  },
  {
   "cell_type": "code",
   "execution_count": 2,
   "id": "6f223549",
   "metadata": {},
   "outputs": [],
   "source": [
    "def dresden_way(inputstring):\n",
    "    if (inputstring == \"Wie kommt man am schnellsten nach Dresden?\"):\n",
    "        return \"Du steckst den Finger in den Arsch und drehstn!\"\n",
    "    else :\n",
    "        return \"Boden(see)los\""
   ]
  },
  {
   "cell_type": "code",
   "execution_count": 3,
   "id": "a1c5ef16",
   "metadata": {},
   "outputs": [
    {
     "name": "stdout",
     "output_type": "stream",
     "text": [
      "Du steckst den Finger in den Arsch und drehstn!\n"
     ]
    }
   ],
   "source": [
    "string = \"Wie kommt man am schnellsten nach Dresden?\"\n",
    "print(dresden_way(string))"
   ]
  },
  {
   "cell_type": "code",
   "execution_count": 4,
   "id": "cffe5390",
   "metadata": {},
   "outputs": [],
   "source": [
    "def uwu():\n",
    "    return 'uwu'"
   ]
  },
  {
   "cell_type": "code",
   "execution_count": 5,
   "id": "cd4e60b6",
   "metadata": {},
   "outputs": [],
   "source": [
    "#for i in range(1000):\n",
    " #   for j in range(1000):\n",
    "  #      for k in range(1000):\n",
    "   #         for l in range(1000):\n",
    "    #            for m in range(1000):\n",
    "     #               print(uwu())"
   ]
  },
  {
   "cell_type": "markdown",
   "id": "60dc9fac",
   "metadata": {},
   "source": [
    "Forward euler 2 body problem uwu"
   ]
  },
  {
   "cell_type": "code",
   "execution_count": 6,
   "id": "9493a9e4",
   "metadata": {},
   "outputs": [],
   "source": [
    "pos0 = 1\n",
    "vel0 = 1\n",
    "\n",
    "def posForwardItr(deltaT, n):\n",
    "    if(n == 0):\n",
    "        return pos0\n",
    "    else:\n",
    "        return posForwardItr(deltaT, n-1) + deltaT * velForwardItr(deltaT, n-1)\n",
    "def velForwardItr(deltaT, n):\n",
    "    if(n==0):\n",
    "        return vel0\n",
    "    else:\n",
    "        return velForwardItr(deltaT, n-1) - deltaT * posForwardItr(deltaT, n-1) / posForwardItr(deltaT, n-1)**3\n",
    "    "
   ]
  },
  {
   "cell_type": "code",
   "execution_count": 16,
   "id": "27ef3079",
   "metadata": {},
   "outputs": [
    {
     "name": "stdout",
     "output_type": "stream",
     "text": [
      "1\n"
     ]
    }
   ],
   "source": [
    "print(posForwardItr(1, 0), velForwardItr())"
   ]
  },
  {
   "cell_type": "code",
   "execution_count": 17,
   "id": "031ccf03",
   "metadata": {},
   "outputs": [],
   "source": [
    "def energy(s, w):\n",
    "    w2 = np.sum(w*w)\n",
    "    s2 = np.sum(s*s)\n",
    "    return 0.5 * w2 - 1./np.sqrt(s2)"
   ]
  },
  {
   "cell_type": "code",
   "execution_count": 18,
   "id": "81c3b1ad",
   "metadata": {},
   "outputs": [],
   "source": [
    "def rl_vector(s, w):\n",
    "    w2 = np.sum(w*w)\n",
    "    s2 = np.sum(s*s)\n",
    "    sw = np.sum(s*w)\n",
    "    return s * w2 - sw * w - s * 1./np.sqrt(s2)\n",
    "def T_orbit(s, w):\n",
    "    a = -1.0 / energy(s, w)\n",
    "    return np.pi * a * np.sqrt(a/2.0)\n",
    "def relative_pos(m1, m2, s, r0):\n",
    "    x1 = m2/(m1+m2) * s * r0 * 2\n",
    "    x2 = -m1/(m2+m1) * s * r0 * 2\n",
    "    return x1, x2\n",
    "def accel(sn):\n",
    "    s_sq = np.sum(sn * sn)\n",
    "    s = np.sqrt(s_sq)\n",
    "    s3 = s_sq * s\n",
    "    return - sn / s3\n",
    "def FwdEuler(s0, w0, deltaT, n):\n",
    "    s_out = np.zeros((n+1,3))\n",
    "    w_out = np.zeros((n+1,3))\n",
    "    s_out[0,:] = s0.copy()\n",
    "    w_out[0,:] = w0.copy()\n",
    "    s_np1 = s0.copy()\n",
    "    w_np1 = w0.copy()\n",
    "    for n in range(n):\n",
    "        s_n = s_np1.copy()\n",
    "        w_n = w_np1.copy()\n",
    "        s_np1 = s_n + w_n * deltaT\n",
    "        w_np1 = w_n * deltaT * accel(s_n)\n",
    "        s_out[n+1,:] = s_np1.copy()\n",
    "        w_out[n+1,:] = w_np1.copy()\n",
    "    return s_out, w_out"
   ]
  },
  {
   "cell_type": "code",
   "execution_count": 19,
   "id": "d10fe6ec",
   "metadata": {},
   "outputs": [],
   "source": [
    "def jhin():\n",
    "    return 4"
   ]
  },
  {
   "cell_type": "code",
   "execution_count": null,
   "id": "385996d4",
   "metadata": {},
   "outputs": [],
   "source": []
  }
 ],
 "metadata": {
  "kernelspec": {
   "display_name": "Python 3",
   "language": "python",
   "name": "python3"
  },
  "language_info": {
   "codemirror_mode": {
    "name": "ipython",
    "version": 3
   },
   "file_extension": ".py",
   "mimetype": "text/x-python",
   "name": "python",
   "nbconvert_exporter": "python",
   "pygments_lexer": "ipython3",
   "version": "3.8.8"
  }
 },
 "nbformat": 4,
 "nbformat_minor": 5
}
