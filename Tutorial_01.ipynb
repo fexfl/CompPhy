{
 "cells": [
  {
   "cell_type": "code",
   "execution_count": 1,
   "id": "64b49d7f",
   "metadata": {},
   "outputs": [],
   "source": [
    "import numpy as np\n",
    "import matplotlib.pyplot as plt"
   ]
  },
  {
   "cell_type": "code",
   "execution_count": 2,
   "id": "2df5c6ef",
   "metadata": {},
   "outputs": [],
   "source": [
    "def x1(c):\n",
    "    return 0.5 * (-1 + np.sqrt(1 - 4*c))"
   ]
  },
  {
   "cell_type": "code",
   "execution_count": 7,
   "id": "603b3687",
   "metadata": {},
   "outputs": [
    {
     "name": "stdout",
     "output_type": "stream",
     "text": [
      "0.1\n",
      "-0.1127016653792583\n",
      "0.01\n",
      "-0.010102051443364402\n",
      "0.001\n",
      "-0.0010010020050140178\n",
      "0.0001\n",
      "-0.00010001000200049459\n",
      "1e-05\n",
      "-1.0000100002016676e-05\n",
      "1e-06\n",
      "-1.000001000006634e-06\n",
      "1e-07\n",
      "-1.0000000999488279e-07\n",
      "1e-08\n",
      "-1.0000000105758744e-08\n",
      "1e-09\n",
      "-1.0000000272292198e-09\n",
      "1e-10\n",
      "-1.000000082740371e-10\n",
      "1e-11\n",
      "-1.000000082740371e-11\n",
      "1e-12\n",
      "-1.0000333894311098e-12\n",
      "1e-13\n",
      "-1.000310945187266e-13\n",
      "1e-14\n",
      "-9.992007221626409e-15\n",
      "1e-15\n",
      "-9.992007221626409e-16\n",
      "1e-16\n",
      "-1.1102230246251565e-16\n",
      "1e-17\n",
      "0.0\n",
      "1e-18\n",
      "0.0\n",
      "1e-19\n",
      "0.0\n"
     ]
    }
   ],
   "source": [
    "c = np.array([10**-1, 10**-2, 10**-3, 10**-4, 10**-5, 10**-6, 10**-7, 10**-8, 10**-9, 10**-10, 10**-11, 10**-12, 10**-13, 10**-14, 10**-15, 10**-16, 10**-17, 10**-18, 10**-19])\n",
    "for citr in c:\n",
    "    print(citr)\n",
    "    print(x1(citr))"
   ]
  },
  {
   "cell_type": "code",
   "execution_count": null,
   "id": "7c21e9dc",
   "metadata": {},
   "outputs": [],
   "source": []
  }
 ],
 "metadata": {
  "kernelspec": {
   "display_name": "Python 3",
   "language": "python",
   "name": "python3"
  },
  "language_info": {
   "codemirror_mode": {
    "name": "ipython",
    "version": 3
   },
   "file_extension": ".py",
   "mimetype": "text/x-python",
   "name": "python",
   "nbconvert_exporter": "python",
   "pygments_lexer": "ipython3",
   "version": "3.8.8"
  }
 },
 "nbformat": 4,
 "nbformat_minor": 5
}
