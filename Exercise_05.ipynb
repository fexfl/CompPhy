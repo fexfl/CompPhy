{
 "cells": [
  {
   "cell_type": "markdown",
   "id": "6fcc8fda",
   "metadata": {},
   "source": [
    "# Exercise 5\n",
    "### Jan Kesting, Felix Fleischle - 26.5.2023 - Group 1 Jeong Yun Choi"
   ]
  },
  {
   "cell_type": "code",
   "execution_count": 1,
   "id": "78ce02ab",
   "metadata": {},
   "outputs": [],
   "source": [
    "import numpy as np\n",
    "import matplotlib.pyplot as plt\n",
    "from scipy.sparse import diags"
   ]
  },
  {
   "cell_type": "markdown",
   "id": "83476035",
   "metadata": {},
   "source": [
    "#### 1. Implementing Gaussian elimination\n",
    "To implement gaussian elimination, we have to take our matrix equation and transform the left matrix into a unitary matrix, such that our solution vector is equal to the resulting vector on the right. Our general matrix equation would be M*x = y. We're not sure how much of this code is actually meant to be part of 3. :)"
   ]
  },
  {
   "cell_type": "code",
   "execution_count": 2,
   "id": "e1a8cf11",
   "metadata": {},
   "outputs": [],
   "source": [
    "def gaussian_elimination(M, y):\n",
    "    # First, do elementary operations until we have only the upper triangle left\n",
    "    # --> We iterate through the matrix\n",
    "    for i in range(len(M)-1):\n",
    "        f1 = M[i+1,i]/M[i,i]\n",
    "        M[i+1,i+1] -= f1 * M[i,i+1]\n",
    "        y[i+1] -= f1 * y[i]\n",
    "        M[i+1,i] = 0\n",
    "        \n",
    "    # Then, we eliminate the upper entries to get a diagonal matrix\n",
    "    for j in range(len(M)-1, 0, -1):\n",
    "        f2 = M[j-1,j]/M[j,j]\n",
    "        y[j-1] -= f2 * y[j]\n",
    "        M[j-1,j] = 0\n",
    "        \n",
    "    # And finally we transform the diagonal matrix into a unitary matrix\n",
    "    for k in range(len(M)):\n",
    "        y[k] = y[k]/M[k,k]\n",
    "        M[k,k] = 1\n",
    "        \n",
    "    return M,y"
   ]
  },
  {
   "cell_type": "markdown",
   "id": "5e8e2fb7",
   "metadata": {},
   "source": [
    "2. Implementing backwards subsitution"
   ]
  },
  {
   "cell_type": "code",
   "execution_count": 3,
   "id": "7fbe203c",
   "metadata": {},
   "outputs": [],
   "source": [
    "def backwards_subst(M,x):\n",
    "    y = np.ones(len(x))\n",
    "    \n",
    "    for i in range(len(x)):\n",
    "        sum = 0\n",
    "        for j in range(len(x)):\n",
    "            sum += M[i,j] * x[j]\n",
    "        y[i] = sum\n",
    "    return y"
   ]
  },
  {
   "cell_type": "markdown",
   "id": "cbd1bef2",
   "metadata": {},
   "source": [
    "3. Writing a subroutine that finds the solution when given values of a, b, c, y"
   ]
  },
  {
   "cell_type": "code",
   "execution_count": 16,
   "id": "b5a0190f",
   "metadata": {},
   "outputs": [],
   "source": [
    "def solver(a, b, c, y, extractmatrix):\n",
    "    # Build the matrix M out of the given information\n",
    "    # using scipy.sparse.diags\n",
    "    # The extractmatrix parameter is a bool that is used to extract the matrix in part 5.\n",
    "    \n",
    "    list_of_diagonals = [a, b, c]\n",
    "    M = diags(list_of_diagonals, [-1, 0, 1]).toarray()\n",
    "    \n",
    "    if extractmatrix:\n",
    "        return M\n",
    "    else:\n",
    "        # Use the function defined in 1. to get the solution\n",
    "        return gaussian_elimination(M,y)"
   ]
  },
  {
   "cell_type": "markdown",
   "id": "94242f9b",
   "metadata": {},
   "source": [
    "4. Test our code with given values"
   ]
  },
  {
   "cell_type": "code",
   "execution_count": 36,
   "id": "37d56108",
   "metadata": {},
   "outputs": [
    {
     "name": "stdout",
     "output_type": "stream",
     "text": [
      "[[1. 0. 0. 0. 0. 0. 0. 0. 0. 0.]\n",
      " [0. 1. 0. 0. 0. 0. 0. 0. 0. 0.]\n",
      " [0. 0. 1. 0. 0. 0. 0. 0. 0. 0.]\n",
      " [0. 0. 0. 1. 0. 0. 0. 0. 0. 0.]\n",
      " [0. 0. 0. 0. 1. 0. 0. 0. 0. 0.]\n",
      " [0. 0. 0. 0. 0. 1. 0. 0. 0. 0.]\n",
      " [0. 0. 0. 0. 0. 0. 1. 0. 0. 0.]\n",
      " [0. 0. 0. 0. 0. 0. 0. 1. 0. 0.]\n",
      " [0. 0. 0. 0. 0. 0. 0. 0. 1. 0.]\n",
      " [0. 0. 0. 0. 0. 0. 0. 0. 0. 1.]]\n",
      "[ 0.09565217  0.04347826 -0.13043478 -0.33913043 -0.47826087 -0.47826087\n",
      " -0.33913043 -0.13043478  0.04347826  0.09565217]\n"
     ]
    }
   ],
   "source": [
    "N = 10\n",
    "a = -1 * np.ones(N-1)\n",
    "b = 1.5 * np.ones(N)\n",
    "c = -1 * np.ones(N-1)\n",
    "y = 0.1 * np.ones(N)\n",
    "y_copy = 0.1 * np.ones(N)\n",
    "\n",
    "\n",
    "M_end, y_end = solver(a,b,c,y,False)\n",
    "print(M_end)\n",
    "print(y_end)"
   ]
  },
  {
   "cell_type": "markdown",
   "id": "af0218e2",
   "metadata": {},
   "source": [
    "5. Using our backwards substition code to test the deviation from the original y"
   ]
  },
  {
   "cell_type": "code",
   "execution_count": 38,
   "id": "b5325232",
   "metadata": {},
   "outputs": [
    {
     "name": "stdout",
     "output_type": "stream",
     "text": [
      "Deviation:\n",
      " [ 0.00000000e+00  1.38777878e-17  2.77555756e-17 -2.77555756e-17\n",
      "  2.77555756e-17 -2.77555756e-17  5.55111512e-17 -2.77555756e-17\n",
      "  1.38777878e-17  2.77555756e-17]\n"
     ]
    }
   ],
   "source": [
    "# Get the Matrix M again\n",
    "M_original = solver(a,b,c,y,True)\n",
    "\n",
    "# x is equal to y_end\n",
    "y_original = backwards_subst(M_original, y_end)\n",
    "\n",
    "y_diff = y_original - y_copy\n",
    "print(\"Deviation:\\n\",y_diff)"
   ]
  },
  {
   "cell_type": "code",
   "execution_count": null,
   "id": "848c0c67",
   "metadata": {},
   "outputs": [],
   "source": []
  }
 ],
 "metadata": {
  "kernelspec": {
   "display_name": "Python 3",
   "language": "python",
   "name": "python3"
  },
  "language_info": {
   "codemirror_mode": {
    "name": "ipython",
    "version": 3
   },
   "file_extension": ".py",
   "mimetype": "text/x-python",
   "name": "python",
   "nbconvert_exporter": "python",
   "pygments_lexer": "ipython3",
   "version": "3.8.8"
  }
 },
 "nbformat": 4,
 "nbformat_minor": 5
}
